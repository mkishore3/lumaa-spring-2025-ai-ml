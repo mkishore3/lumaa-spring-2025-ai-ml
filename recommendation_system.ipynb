{
 "cells": [
  {
   "cell_type": "markdown",
   "id": "8ec14a49-2900-4c90-a1cf-4eb4d07f644e",
   "metadata": {},
   "source": [
    "# AI/Machine Learning Intern Challenge: Simple Content-Based Recommendation"
   ]
  },
  {
   "cell_type": "code",
   "execution_count": 1,
   "id": "e9ea2e78-9db5-4b04-9334-70072ace11fd",
   "metadata": {},
   "outputs": [
    {
     "name": "stdout",
     "output_type": "stream",
     "text": [
      "Requirement already satisfied: scikit-learn in /Users/mythrikishore/miniforge3/lib/python3.12/site-packages (1.6.1)\n",
      "Requirement already satisfied: numpy>=1.19.5 in /Users/mythrikishore/miniforge3/lib/python3.12/site-packages (from scikit-learn) (2.2.1)\n",
      "Requirement already satisfied: scipy>=1.6.0 in /Users/mythrikishore/miniforge3/lib/python3.12/site-packages (from scikit-learn) (1.15.2)\n",
      "Requirement already satisfied: joblib>=1.2.0 in /Users/mythrikishore/miniforge3/lib/python3.12/site-packages (from scikit-learn) (1.4.2)\n",
      "Requirement already satisfied: threadpoolctl>=3.1.0 in /Users/mythrikishore/miniforge3/lib/python3.12/site-packages (from scikit-learn) (3.5.0)\n"
     ]
    }
   ],
   "source": [
    "#imports\n",
    "import pandas as pd\n",
    "!pip install scikit-learn\n",
    "from sklearn.feature_extraction.text import TfidfVectorizer\n",
    "from sklearn.metrics.pairwise import cosine_similarity\n",
    "from sklearn.feature_extraction.text import TfidfVectorizer"
   ]
  },
  {
   "cell_type": "markdown",
   "id": "abd91627-ed25-498b-8565-6bd13229ada0",
   "metadata": {},
   "source": [
    "## Load the Dataset\n",
    "Download the data(csv) from Kaggle from the link:\n",
    "https://www.kaggle.com/datasets/rajugc/imdb-top-250-movies-dataset\n",
    "\n",
    "Store the pathname of the csv file in the variable `pathname`"
   ]
  },
  {
   "cell_type": "code",
   "execution_count": 2,
   "id": "855bdfef-07af-4741-9ff8-7ebc93bf2743",
   "metadata": {},
   "outputs": [],
   "source": [
    "pathname = \"/Users/mythrikishore/lumaa-spring-2025-ai-ml/IMDB_Top_250_Movies.csv\""
   ]
  },
  {
   "cell_type": "code",
   "execution_count": 3,
   "id": "9d782885-1050-45da-b8da-7b2e37e637af",
   "metadata": {},
   "outputs": [
    {
     "data": {
      "text/html": [
       "<div>\n",
       "<style scoped>\n",
       "    .dataframe tbody tr th:only-of-type {\n",
       "        vertical-align: middle;\n",
       "    }\n",
       "\n",
       "    .dataframe tbody tr th {\n",
       "        vertical-align: top;\n",
       "    }\n",
       "\n",
       "    .dataframe thead th {\n",
       "        text-align: right;\n",
       "    }\n",
       "</style>\n",
       "<table border=\"1\" class=\"dataframe\">\n",
       "  <thead>\n",
       "    <tr style=\"text-align: right;\">\n",
       "      <th></th>\n",
       "      <th>name</th>\n",
       "      <th>tagline</th>\n",
       "    </tr>\n",
       "  </thead>\n",
       "  <tbody>\n",
       "    <tr>\n",
       "      <th>0</th>\n",
       "      <td>The Shawshank Redemption</td>\n",
       "      <td>Fear can hold you prisoner. Hope can set you f...</td>\n",
       "    </tr>\n",
       "    <tr>\n",
       "      <th>1</th>\n",
       "      <td>The Godfather</td>\n",
       "      <td>An offer you can't refuse.</td>\n",
       "    </tr>\n",
       "    <tr>\n",
       "      <th>2</th>\n",
       "      <td>The Dark Knight</td>\n",
       "      <td>Why So Serious?</td>\n",
       "    </tr>\n",
       "    <tr>\n",
       "      <th>3</th>\n",
       "      <td>The Godfather Part II</td>\n",
       "      <td>All the power on earth can't change destiny.</td>\n",
       "    </tr>\n",
       "    <tr>\n",
       "      <th>4</th>\n",
       "      <td>12 Angry Men</td>\n",
       "      <td>Life Is In Their Hands -- Death Is On Their Mi...</td>\n",
       "    </tr>\n",
       "  </tbody>\n",
       "</table>\n",
       "</div>"
      ],
      "text/plain": [
       "                       name                                            tagline\n",
       "0  The Shawshank Redemption  Fear can hold you prisoner. Hope can set you f...\n",
       "1             The Godfather                         An offer you can't refuse.\n",
       "2           The Dark Knight                                    Why So Serious?\n",
       "3     The Godfather Part II       All the power on earth can't change destiny.\n",
       "4              12 Angry Men  Life Is In Their Hands -- Death Is On Their Mi..."
      ]
     },
     "execution_count": 3,
     "metadata": {},
     "output_type": "execute_result"
    }
   ],
   "source": [
    "df = pd.read_csv(pathname)\n",
    "# Keep only 'name' and 'tagline' columns\n",
    "df = df[['name', 'tagline']].dropna()\n",
    "df.head()"
   ]
  },
  {
   "cell_type": "markdown",
   "id": "a00773ab-92b2-43ea-85c6-15455e146479",
   "metadata": {},
   "source": [
    "## Preprocess the text\n",
    "Combine the movie name and the tagline to calculate the similarity."
   ]
  },
  {
   "cell_type": "code",
   "execution_count": 5,
   "id": "ae7e3290-b829-487a-b228-62ddc827f215",
   "metadata": {},
   "outputs": [],
   "source": [
    "df['text'] = df['name'] + \" \" + df['tagline']\n",
    "#ignore \"unexpected error\" if it appears"
   ]
  },
  {
   "cell_type": "markdown",
   "id": "fd694542-cf52-4422-abac-ea20efa46237",
   "metadata": {},
   "source": [
    "## Convert text to TF-IDF vectors"
   ]
  },
  {
   "cell_type": "code",
   "execution_count": 6,
   "id": "f816bf03-9bd3-4b9c-a6ba-1dbd00d117e3",
   "metadata": {},
   "outputs": [],
   "source": [
    "vectorizer = TfidfVectorizer(stop_words='english', lowercase=True) #focus on meaningful words and ensure consistency\n",
    "tfidf_matrix = vectorizer.fit_transform(df['text'])"
   ]
  },
  {
   "cell_type": "markdown",
   "id": "7ca94aed-6768-496c-9407-4ff35191a226",
   "metadata": {},
   "source": [
    "## Calculate Similarity & Provide Recommendations"
   ]
  },
  {
   "cell_type": "code",
   "execution_count": 7,
   "id": "54f59cc9-6edd-40b0-801a-8460bc1e4075",
   "metadata": {},
   "outputs": [],
   "source": [
    "def recommend_movies(user_input, top_n=5):\n",
    "    # Transform the input using the vectorizer from the previous cell\n",
    "    input_vec = vectorizer.transform([user_input])\n",
    "    \n",
    "    # Compute cosine similarity\n",
    "    similarity_scores = cosine_similarity(input_vec, tfidf_matrix).flatten()\n",
    "    \n",
    "    # Get top N (default=5) indices\n",
    "    top_indices = similarity_scores.argsort()[-top_n:][::-1]\n",
    "    \n",
    "    # Return the top N movie names with similarity scores as a list\n",
    "    recommendations =  [(df.iloc[i]['name'], float(round(similarity_scores[i], 3))) for i in top_indices]\n",
    "    return recommendations"
   ]
  },
  {
   "cell_type": "code",
   "execution_count": 8,
   "id": "895c0ced-63ea-4113-a305-4512535f4126",
   "metadata": {},
   "outputs": [
    {
     "data": {
      "text/plain": [
       "[('The Exorcist', 0.324),\n",
       " ('Alien', 0.312),\n",
       " ('2001: A Space Odyssey', 0.209),\n",
       " ('Finding Nemo', 0.2),\n",
       " ('The Apartment', 0.142)]"
      ]
     },
     "execution_count": 8,
     "metadata": {},
     "output_type": "execute_result"
    }
   ],
   "source": [
    "#Example usage\n",
    "#`user_text` represents the input description - change according to recommendation preferences\n",
    "user_text = \"Fun thrilling space movie\"\n",
    "recommend_movies(user_text)"
   ]
  },
  {
   "cell_type": "markdown",
   "id": "484cd3d0-d364-420e-bae5-cbf5b71d5f14",
   "metadata": {},
   "source": [
    "### Interpretation of Similarity Scores"
   ]
  },
  {
   "cell_type": "markdown",
   "id": "1bd9535d-58a5-4d00-9f16-f7a9ec0aada4",
   "metadata": {},
   "source": [
    "The similarity score is calculated based on TF-IDF cosine similarity. It ranges from 0 to 1.\n",
    "\n",
    "A similarity score close to 1 signifies that the two text inputs (user's and movie tagline) are very **similar**. On the other hand, a score close to 0 signifies that the two text inputs are very **dissimilar**."
   ]
  }
 ],
 "metadata": {
  "kernelspec": {
   "display_name": "Python 3 (ipykernel)",
   "language": "python",
   "name": "python3"
  },
  "language_info": {
   "codemirror_mode": {
    "name": "ipython",
    "version": 3
   },
   "file_extension": ".py",
   "mimetype": "text/x-python",
   "name": "python",
   "nbconvert_exporter": "python",
   "pygments_lexer": "ipython3",
   "version": "3.12.5"
  }
 },
 "nbformat": 4,
 "nbformat_minor": 5
}
